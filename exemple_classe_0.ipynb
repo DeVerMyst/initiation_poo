{
 "cells": [
  {
   "cell_type": "markdown",
   "metadata": {},
   "source": [
    "# Création d'une classe, premier pas"
   ]
  },
  {
   "cell_type": "markdown",
   "metadata": {},
   "source": [
    "#### Une toute petite classe"
   ]
  },
  {
   "cell_type": "code",
   "execution_count": 51,
   "metadata": {},
   "outputs": [
    {
     "name": "stdout",
     "output_type": "stream",
     "text": [
      "0\n"
     ]
    }
   ],
   "source": [
    "class MaClass_1():\n",
    "    \"\"\"\n",
    "    Une classe \n",
    "    \"\"\"\n",
    "\n",
    "premier_test_1 = MaClass_1()\n",
    "premier_test_1.x = 0 \n",
    "\n",
    "print(premier_test_1.x)"
   ]
  },
  {
   "cell_type": "markdown",
   "metadata": {},
   "source": [
    "#### premier pas"
   ]
  },
  {
   "cell_type": "code",
   "execution_count": 52,
   "metadata": {},
   "outputs": [
    {
     "name": "stdout",
     "output_type": "stream",
     "text": [
      "1 2 3\n"
     ]
    }
   ],
   "source": [
    "class MaClass():\n",
    "    def __init__(self):\n",
    "        self.a = 1\n",
    "        self.b = 2\n",
    "        self.c = 3\n",
    "    def affiche(self):\n",
    "        print(self.a, self.b, self.c)\n",
    "\n",
    "\n",
    "deuxieme_test_1 = MaClass()\n",
    "deuxieme_test_1.affiche()"
   ]
  },
  {
   "cell_type": "code",
   "execution_count": 53,
   "metadata": {},
   "outputs": [
    {
     "name": "stdout",
     "output_type": "stream",
     "text": [
      "4 2 3\n"
     ]
    }
   ],
   "source": [
    "deuxieme_test_2 = MaClass()\n",
    "deuxieme_test_2.a = 4\n",
    "deuxieme_test_2.affiche()"
   ]
  },
  {
   "cell_type": "markdown",
   "metadata": {},
   "source": [
    "#### heritage"
   ]
  },
  {
   "cell_type": "code",
   "execution_count": 54,
   "metadata": {},
   "outputs": [
    {
     "name": "stdout",
     "output_type": "stream",
     "text": [
      "age : 20 taille : 1.8 poids : 80 HP : 100 position : 0 z : 0\n"
     ]
    }
   ],
   "source": [
    "map = [\"terre\", \"eau\", \"air\"]\n",
    "class Personnage():\n",
    "        def __init__(self, age, taille, poids, HP=100):\n",
    "                self.age = age\n",
    "                self.taille = taille\n",
    "                self.poids = poids\n",
    "                self.HP = HP\n",
    "                self.position = 0\n",
    "                self.z = 0\n",
    "                self.saut_duration = 0\n",
    "        def marche(self,pas) :\n",
    "                self.position = self.position + pas\n",
    "        def courir(self,vitesse): \n",
    "                self.position = self.position + vitesse  \n",
    "        def sauter(self):\n",
    "                if self.saut_duration == 0:\n",
    "                        self.z = self.z + 1\n",
    "                        self.saut_duration = 10\n",
    "        def nager(self,jeu):\n",
    "                if map(self.position) == \"eau\":\n",
    "                        self.position = self.position + .5\n",
    "        def affiche(self):\n",
    "                print(\"age :\", self.age, \"taille :\", self.taille, \"poids :\", self.poids, \"HP :\", self.HP, \"position :\", self.position, \"z :\", self.z)\n",
    "        def __str__(self):\n",
    "                return \"Personnage\"                \n",
    "\n",
    "\n",
    "Personage_1 = Personnage(20,1.80,80) \n",
    "Personage_1.affiche()"
   ]
  },
  {
   "cell_type": "markdown",
   "metadata": {},
   "source": [
    "#### Héritage de la classe personnage"
   ]
  },
  {
   "cell_type": "code",
   "execution_count": 55,
   "metadata": {},
   "outputs": [
    {
     "name": "stdout",
     "output_type": "stream",
     "text": [
      "age : 20 taille : 1.8 poids : 80 HP : 100 position : 0 z : 0\n",
      "force : 10\n"
     ]
    }
   ],
   "source": [
    "class guerrier(Personnage):\n",
    "        def __init__(self, age, taille, poids, HP=100):\n",
    "                super().__init__(age, taille, poids, HP)\n",
    "                self.force = 10\n",
    "        def attaque(self,cible):\n",
    "                cible.HP = cible.HP - self.force\n",
    "        def affiche(self):\n",
    "                super().affiche()\n",
    "                print(\"force :\", self.force)\n",
    "        def __str__(self):\n",
    "                parent = super().__str__()\n",
    "                return f\"{parent}, {'guerrier'}\"\n",
    "\n",
    "guerrier_1 = guerrier(20,1.80,80)\n",
    "guerrier_1.affiche()"
   ]
  },
  {
   "cell_type": "code",
   "execution_count": 56,
   "metadata": {},
   "outputs": [
    {
     "name": "stdout",
     "output_type": "stream",
     "text": [
      "guerrier_1\n",
      "age : 20 taille : 1.8 poids : 80 HP : 100 position : 0 z : 0\n",
      "force : 10\n",
      "Personage_1\n",
      "age : 20 taille : 1.8 poids : 80 HP : 100 position : 0 z : 0\n",
      "guerrier_1 attaque Personage_1\n",
      "Personage_1 après attaque\n",
      "age : 20 taille : 1.8 poids : 80 HP : 90 position : 0 z : 0\n"
     ]
    }
   ],
   "source": [
    "print(\"guerrier_1\")\n",
    "guerrier_1.affiche()\n",
    "print(\"Personage_1\")\n",
    "Personage_1.affiche()\n",
    "print(\"guerrier_1 attaque Personage_1\")\n",
    "guerrier_1.attaque(Personage_1)\n",
    "print(\"Personage_1 après attaque\")\n",
    "Personage_1.affiche()"
   ]
  },
  {
   "cell_type": "code",
   "execution_count": 57,
   "metadata": {},
   "outputs": [],
   "source": [
    "class magicien(Personnage):\n",
    "        def __init__(self, age, taille, poids, HP=100):\n",
    "                super().__init__(age, taille, poids, HP)\n",
    "                self.magie = 10\n",
    "        def attaque(self,cible):\n",
    "                cible.HP = cible.HP - self.magie\n",
    "        def affiche(self):\n",
    "                super().affiche()\n",
    "                print(\"magie :\", self.magie)\n",
    "        def __str__(self):\n",
    "                parent = super().__str__()\n",
    "                return f\"{parent}, {'Magicien'}\""
   ]
  },
  {
   "cell_type": "code",
   "execution_count": 58,
   "metadata": {},
   "outputs": [
    {
     "name": "stdout",
     "output_type": "stream",
     "text": [
      "Personnage, Magicien\n"
     ]
    }
   ],
   "source": [
    "mage = magicien(20,1.80,80)\n",
    "print(mage)"
   ]
  },
  {
   "cell_type": "code",
   "execution_count": 62,
   "metadata": {},
   "outputs": [
    {
     "name": "stdout",
     "output_type": "stream",
     "text": [
      "Personnage, Magicien, guerrier\n",
      "age : 20 taille : 1.8 poids : 80 HP : 100 position : 0 z : 0\n",
      "magie : 10\n",
      "force : 10\n"
     ]
    },
    {
     "data": {
      "text/plain": [
       "'ceci est une classe qui hérite de deux autres classes'"
      ]
     },
     "execution_count": 62,
     "metadata": {},
     "output_type": "execute_result"
    }
   ],
   "source": [
    "class Guerrier_Mage(guerrier, magicien):\n",
    "    \"\"\"ceci est une classe qui hérite de deux autres classes\"\"\"\n",
    "    pass \n",
    "\n",
    "gm = Guerrier_Mage(20,1.80,80)\n",
    "print(gm)\n",
    "gm.affiche()\n",
    "\n",
    "\n",
    "gm.__doc__"
   ]
  },
  {
   "cell_type": "code",
   "execution_count": 68,
   "metadata": {},
   "outputs": [
    {
     "name": "stdout",
     "output_type": "stream",
     "text": [
      "0\n",
      "2\n",
      "4\n",
      "6\n"
     ]
    }
   ],
   "source": [
    "maListe = (x * 2 for x in range(4))\n",
    "for i in maListe:\n",
    "    print(i)\n",
    "for i in maListe:\n",
    "    print(i)    \n"
   ]
  },
  {
   "cell_type": "code",
   "execution_count": 71,
   "metadata": {},
   "outputs": [
    {
     "name": "stdout",
     "output_type": "stream",
     "text": [
      "0\n",
      "1\n",
      "4\n",
      "9\n"
     ]
    }
   ],
   "source": [
    "def generateurMultiplicationPar2():\n",
    "    maliste = range(4)\n",
    "    for i in maliste:\n",
    "        yield i**2\n",
    "\n",
    "for i in generateurMultiplicationPar2():\n",
    "    print(i)"
   ]
  },
  {
   "cell_type": "code",
   "execution_count": 76,
   "metadata": {},
   "outputs": [
    {
     "data": {
      "text/plain": [
       "array([14, 19, 10,  9, 14, 19,  1,  7, 10, 16])"
      ]
     },
     "execution_count": 76,
     "metadata": {},
     "output_type": "execute_result"
    }
   ],
   "source": [
    "from numpy.random import randint \n",
    "\n",
    "randint(0,24,10)"
   ]
  },
  {
   "cell_type": "code",
   "execution_count": 82,
   "metadata": {},
   "outputs": [
    {
     "name": "stdout",
     "output_type": "stream",
     "text": [
      "mavaleur : 10\n",
      "ma valeur 10 et il est 24\n",
      "ma valeur  10  et il est  24\n",
      "10 50 25\n"
     ]
    }
   ],
   "source": [
    "mavaleur = 10 \n",
    "\n",
    "print(\"mavaleur :\", mavaleur)\n",
    "\n",
    "print(\"ma valeur {1} et il est {0}\".format(24,mavaleur)) \n",
    "\n",
    "print(\"ma valeur \", mavaleur, \" et il est \", 24) \n",
    "print(10,50,25)\n"
   ]
  }
 ],
 "metadata": {
  "interpreter": {
   "hash": "aee8b7b246df8f9039afb4144a1f6fd8d2ca17a180786b69acc140d282b71a49"
  },
  "kernelspec": {
   "display_name": "Python 3.10.0 64-bit",
   "language": "python",
   "name": "python3"
  },
  "language_info": {
   "codemirror_mode": {
    "name": "ipython",
    "version": 3
   },
   "file_extension": ".py",
   "mimetype": "text/x-python",
   "name": "python",
   "nbconvert_exporter": "python",
   "pygments_lexer": "ipython3",
   "version": "3.10.0"
  },
  "orig_nbformat": 4
 },
 "nbformat": 4,
 "nbformat_minor": 2
}
